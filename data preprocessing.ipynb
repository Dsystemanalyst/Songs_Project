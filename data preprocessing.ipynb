{
 "cells": [
  {
   "cell_type": "code",
   "execution_count": 1,
   "id": "32fd72d6",
   "metadata": {},
   "outputs": [],
   "source": [
    "import pandas as pd\n",
    "\n",
    "# Load the CSV file into a pandas DataFrame, skip the first row\n",
    "df = pd.read_csv('200songs.csv', skiprows=1)\n",
    "\n",
    "# Normalize text in 'Title' and 'Artist' columns\n",
    "df['Title'] = df['Title'].str.title()\n",
    "df['Artist'] = df['Artist(s)'].str.title()\n",
    "\n",
    "# Remove double quotes from the beginning and end of the 'Title' and 'Artist' strings\n",
    "df['Title'] = df['Title'].str.strip('\"')\n",
    "df['Artist'] = df['Artist(s)'].str.strip('\"')\n",
    "\n",
    "# Select only the 'Title' and 'Artist(s)' columns\n",
    "selected_columns = ['Title', 'Artist']\n",
    "df_selected = df[selected_columns]\n",
    "\n",
    "# Save the selected columns to a new CSV file\n",
    "df_selected.to_csv('global_songs.csv', index=False)"
   ]
  },
  {
   "cell_type": "code",
   "execution_count": 2,
   "id": "6a1ff38b",
   "metadata": {},
   "outputs": [],
   "source": [
    "import pandas as pd\n",
    "\n",
    "# Load the CSV file into a pandas DataFrame, skip the first row\n",
    "df = pd.read_csv('200songs.csv', skiprows=1)\n",
    "\n",
    "# Normalize text in 'Title' and 'Artist' columns\n",
    "df['Title.1'] = df['Title.1'].str.title()\n",
    "df['Artist.1'] = df['Artist(s).1'].str.title()\n",
    "\n",
    "# Remove double quotes from the beginning and end of the 'Title' and 'Artist' strings\n",
    "df['Title.1'] = df['Title.1'].str.strip('\"')\n",
    "df['Artist.1'] = df['Artist(s).1'].str.strip('\"')\n",
    "\n",
    "# Select only the 'Title' and 'Artist(s)' columns\n",
    "selected_columns = ['Title.1', 'Artist.1']\n",
    "df_selected = df[selected_columns]\n",
    "\n",
    "# Save the selected columns to a new CSV file\n",
    "df_selected.to_csv('us_songs.csv', index=False)\n"
   ]
  }
 ],
 "metadata": {
  "kernelspec": {
   "display_name": "Python 3 (ipykernel)",
   "language": "python",
   "name": "python3"
  },
  "language_info": {
   "codemirror_mode": {
    "name": "ipython",
    "version": 3
   },
   "file_extension": ".py",
   "mimetype": "text/x-python",
   "name": "python",
   "nbconvert_exporter": "python",
   "pygments_lexer": "ipython3",
   "version": "3.11.5"
  }
 },
 "nbformat": 4,
 "nbformat_minor": 5
}
