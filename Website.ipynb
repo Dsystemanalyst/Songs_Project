{
 "cells": [
  {
   "cell_type": "code",
   "execution_count": null,
   "id": "437bccb9",
   "metadata": {},
   "outputs": [
    {
     "name": "stdout",
     "output_type": "stream",
     "text": [
      " * Serving Flask app '__main__'\n",
      " * Debug mode: off\n"
     ]
    },
    {
     "name": "stderr",
     "output_type": "stream",
     "text": [
      "WARNING: This is a development server. Do not use it in a production deployment. Use a production WSGI server instead.\n",
      " * Running on http://127.0.0.1:5000\n",
      "Press CTRL+C to quit\n",
      "127.0.0.1 - - [25/Jan/2024 23:45:42] \"GET / HTTP/1.1\" 200 -\n",
      "127.0.0.1 - - [25/Jan/2024 23:45:43] \"GET /static/pic.jpg HTTP/1.1\" 200 -\n",
      "127.0.0.1 - - [25/Jan/2024 23:45:43] \"GET /favicon.ico HTTP/1.1\" 404 -\n",
      "127.0.0.1 - - [25/Jan/2024 23:45:43] \"GET /apple-touch-icon-precomposed.png HTTP/1.1\" 404 -\n",
      "127.0.0.1 - - [25/Jan/2024 23:45:43] \"GET /apple-touch-icon.png HTTP/1.1\" 404 -\n",
      "127.0.0.1 - - [25/Jan/2024 23:45:46] \"GET /login HTTP/1.1\" 200 -\n",
      "127.0.0.1 - - [25/Jan/2024 23:45:52] \"POST /submit HTTP/1.1\" 200 -\n",
      "127.0.0.1 - - [25/Jan/2024 23:45:57] \"GET /list HTTP/1.1\" 200 -\n",
      "127.0.0.1 - - [25/Jan/2024 23:45:57] \"GET /static/pic1.jpg HTTP/1.1\" 200 -\n"
     ]
    }
   ],
   "source": [
    "from flask import Flask, render_template, request, abort\n",
    "import sqlite3 as sql\n",
    "\n",
    "app = Flask(__name__, static_url_path='/static')\n",
    "\n",
    "@app.route('/')\n",
    "def home():\n",
    "    return render_template('home.html')\n",
    "\n",
    "@app.route('/list')\n",
    "def list():\n",
    "    con = sql.connect(\"database1.db\")\n",
    "    con.row_factory = sql.Row\n",
    "\n",
    "    cur = con.cursor()\n",
    "    cur.execute(\"select * from songs\")\n",
    "\n",
    "    rows = cur.fetchall()\n",
    "    return render_template(\"list.html\", rows=rows)\n",
    "\n",
    "@app.route('/list_global')\n",
    "def global_list():\n",
    "    con = sql.connect(\"database1.db\")\n",
    "    con.row_factory = sql.Row\n",
    "\n",
    "    cur = con.cursor()\n",
    "    cur.execute(\"select * from global_songs\")\n",
    "\n",
    "    rows = cur.fetchall()\n",
    "    return render_template(\"global_list.html\", rows=rows)\n",
    "\n",
    "\n",
    "@app.route('/search_box')\n",
    "def search_box():\n",
    "    search_term = request.args.get('search_term', '')  # Assuming you are passing the search term as a query parameter\n",
    "\n",
    "    con = sql.connect(\"database1.db\")\n",
    "    con.row_factory = sql.Row\n",
    "\n",
    "    cur = con.cursor()\n",
    "\n",
    "    # Use a parameterized query to avoid SQL injection\n",
    "    # cur.execute(\"SELECT Title FROM songs WHERE Title LIKE ?\", (f\"%{search_term}%\",))\n",
    "    print(f\"SQL Query: SELECT Title FROM songs WHERE Title LIKE '%{search_term}%'\")\n",
    "    cur.execute(\"SELECT Title FROM songs WHERE Title LIKE ?\", (f\"%{search_term}%\",))\n",
    "\n",
    "    rows = cur.fetchall()\n",
    "\n",
    "    return render_template(\"list.html\", search_term=search_term, rows=rows)\n",
    "\n",
    "@app.route(\"/login\")\n",
    "def login():\n",
    "    return render_template(\"Login.html\")\n",
    "\n",
    "@app.route(\"/submit\", methods=['POST', 'GET'])\n",
    "def submit():\n",
    "    if request.method == 'POST':\n",
    "        user = request.form['nm']\n",
    "        return render_template('result.html')\n",
    "    else:\n",
    "        user = request.args.get('nm')\n",
    "        return render_template('result.html')\n",
    "\n",
    "if __name__ == '__main__':\n",
    "    app.run(debug=False)\n"
   ]
  }
 ],
 "metadata": {
  "kernelspec": {
   "display_name": "Python 3 (ipykernel)",
   "language": "python",
   "name": "python3"
  },
  "language_info": {
   "codemirror_mode": {
    "name": "ipython",
    "version": 3
   },
   "file_extension": ".py",
   "mimetype": "text/x-python",
   "name": "python",
   "nbconvert_exporter": "python",
   "pygments_lexer": "ipython3",
   "version": "3.11.5"
  }
 },
 "nbformat": 4,
 "nbformat_minor": 5
}
