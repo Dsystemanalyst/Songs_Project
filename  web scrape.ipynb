{
 "cells": [
  {
   "cell_type": "code",
   "execution_count": 1,
   "id": "83c08c77",
   "metadata": {},
   "outputs": [
    {
     "name": "stdout",
     "output_type": "stream",
     "text": [
      "CSV file has been created successfully.\n"
     ]
    }
   ],
   "source": [
    "import requests\n",
    "from bs4 import BeautifulSoup\n",
    "import csv\n",
    "\n",
    "url = 'https://en.wikipedia.org/wiki/Billboard_Year-End_Global_200_singles_of_2022'\n",
    "response = requests.get(url)\n",
    "\n",
    "if response.status_code == 200:\n",
    "    soup = BeautifulSoup(response.text, 'html.parser')\n",
    "\n",
    "    # Find the table you are interested in\n",
    "    table = soup.find('table', {'class': 'wikitable'})\n",
    "\n",
    "    # Extract data from the table\n",
    "    rows = table.find_all('tr')\n",
    "\n",
    "    # Open a CSV file for writing\n",
    "    with open('200songs.csv', 'w', newline='', encoding='utf-8') as csvfile:\n",
    "        csv_writer = csv.writer(csvfile)\n",
    "\n",
    "        # Write header if applicable\n",
    "        header = [column.text.strip() for column in rows[0].find_all(['th', 'td'])]\n",
    "        csv_writer.writerow(header)\n",
    "\n",
    "        # Write data\n",
    "        for row in rows[1:]:\n",
    "            columns = row.find_all(['th', 'td'])\n",
    "            data = [column.text.strip() for column in columns]\n",
    "            csv_writer.writerow(data)\n",
    "\n",
    "    print('CSV file has been created successfully.')\n",
    "else:\n",
    "    print(f\"Failed to retrieve the page. Status code: {response.status_code}\")\n"
   ]
  }
 ],
 "metadata": {
  "kernelspec": {
   "display_name": "Python 3 (ipykernel)",
   "language": "python",
   "name": "python3"
  },
  "language_info": {
   "codemirror_mode": {
    "name": "ipython",
    "version": 3
   },
   "file_extension": ".py",
   "mimetype": "text/x-python",
   "name": "python",
   "nbconvert_exporter": "python",
   "pygments_lexer": "ipython3",
   "version": "3.11.5"
  }
 },
 "nbformat": 4,
 "nbformat_minor": 5
}
